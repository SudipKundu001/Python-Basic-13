{
 "cells": [
  {
   "cell_type": "markdown",
   "id": "b7a4c54d",
   "metadata": {},
   "source": [
    ">__1. What advantages do Excel spreadsheets have over CSV spreadsheets?__"
   ]
  },
  {
   "cell_type": "markdown",
   "id": "0714114c",
   "metadata": {},
   "source": [
    "Ans.<br>\n",
    "* Excel is a binary file format that holds information for all workbooks, and it is used in all worksheets. On the other hand, CSV stands for Comma Separated Values. CSV is in plain text format information with a series of values in a sheet and is separated by Commas. CSV is a text which is full of information and is less compatible against excel\n",
    "* Excel is not a measure of a store of information only, but also it is a tool for a financial analyst to perform a deep analysis of data and numbers. An analyst can build profit and loss statements, do ratio analysis, make summaries of huge data, and performs functions and formulas in excel format; it is not just a store of information. On the other hand, we compare excel with CSV; CSV is only a plain text form of data set which does not enable the user to perform any deep-dive analysis on the data set and apply functions."
   ]
  },
  {
   "cell_type": "markdown",
   "id": "e345c332",
   "metadata": {},
   "source": [
    ">__2.What do you pass to csv.reader() and csv.writer() to create reader and writer objects?__"
   ]
  },
  {
   "cell_type": "markdown",
   "id": "16ca03ac",
   "metadata": {},
   "source": [
    "Ans.  You pass a File object, obtained from a call to open()."
   ]
  },
  {
   "cell_type": "code",
   "execution_count": null,
   "id": "0c62050e",
   "metadata": {},
   "outputs": [],
   "source": [
    "#csv.reader() object\n",
    "\n",
    "import csv\n",
    "with open('filename.csv', 'r') as file:\n",
    "    reader = csv.reader(file)\n",
    "    for row in reader:\n",
    "        print(row)\n",
    "        \n",
    "\n",
    "#csv.writer() object\n",
    "\n",
    "import csv\n",
    "csv_rowlist = [[\"SN\", \"Movie\", \"Protagonist\"], [1, \"Lord of the Rings\", \"Frodo Baggins\"],\n",
    "               [2, \"Harry Potter\", \"Harry Potter\"]]\n",
    "with open('protagonist.csv', 'w') as file:\n",
    "    writer = csv.writer(file)\n",
    "    writer.writerows(csv_rowlist)"
   ]
  },
  {
   "cell_type": "markdown",
   "id": "5c339e7d",
   "metadata": {},
   "source": [
    ">__3. What modes do File objects for reader and writer objects need to be opened in?__"
   ]
  },
  {
   "cell_type": "markdown",
   "id": "04535519",
   "metadata": {},
   "source": [
    "Ans.  For reader object we need to open a file in 'rb' mode and for writer object we need to open a file in 'wb' mode"
   ]
  },
  {
   "cell_type": "markdown",
   "id": "acdef7ba",
   "metadata": {},
   "source": [
    ">__4. What method takes a list argument and writes it to a CSV file?__"
   ]
  },
  {
   "cell_type": "markdown",
   "id": "6520bba4",
   "metadata": {},
   "source": [
    "Ans.  The writerow() method"
   ]
  },
  {
   "cell_type": "markdown",
   "id": "4a2c9a58",
   "metadata": {},
   "source": [
    ">__5. What do the keyword arguments delimiter and line terminator do?__"
   ]
  },
  {
   "cell_type": "markdown",
   "id": "77c6e86b",
   "metadata": {},
   "source": [
    "Ans.  The delimiter argument changes the string used to separate cells in a row. The lineterminator argument changes the string used to separate rows."
   ]
  },
  {
   "cell_type": "markdown",
   "id": "e3098141",
   "metadata": {},
   "source": [
    ">__6. What function takes a string of JSON data and returns a Python data structure?__"
   ]
  },
  {
   "cell_type": "markdown",
   "id": "a33df16c",
   "metadata": {},
   "source": [
    "Ans. json.loads() method return Python data structure of JSON string or data"
   ]
  },
  {
   "cell_type": "markdown",
   "id": "2518b693",
   "metadata": {},
   "source": [
    ">__7. What function takes a Python data structure and returns a string of JSON data?__"
   ]
  },
  {
   "cell_type": "markdown",
   "id": "b5ad130f",
   "metadata": {},
   "source": [
    "Ans.  json.dumps()  takes a Python data structure and returns a string of JSON data"
   ]
  }
 ],
 "metadata": {
  "kernelspec": {
   "display_name": "Python 3",
   "language": "python",
   "name": "python3"
  },
  "language_info": {
   "codemirror_mode": {
    "name": "ipython",
    "version": 3
   },
   "file_extension": ".py",
   "mimetype": "text/x-python",
   "name": "python",
   "nbconvert_exporter": "python",
   "pygments_lexer": "ipython3",
   "version": "3.8.8"
  }
 },
 "nbformat": 4,
 "nbformat_minor": 5
}
